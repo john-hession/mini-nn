{
 "cells": [
  {
   "cell_type": "code",
   "execution_count": 18,
   "id": "73482fb6",
   "metadata": {},
   "outputs": [],
   "source": [
    "# toy NN  on iris dataset\n",
    "from components import layers, objectives, activations \n",
    "import sklearn\n",
    "import numpy as np"
   ]
  },
  {
   "cell_type": "code",
   "execution_count": 19,
   "id": "6e483d90",
   "metadata": {},
   "outputs": [
    {
     "name": "stdout",
     "output_type": "stream",
     "text": [
      "[0.   0.25 0.5  0.75 1.  ]\n"
     ]
    }
   ],
   "source": [
    "def min_max_normalize(arr):\n",
    "    \"\"\"\n",
    "    Normalizes a NumPy array to the range [0, 1] using Min-Max scaling.\n",
    "    \"\"\"\n",
    "    min_val = np.min(arr)\n",
    "    max_val = np.max(arr)\n",
    "    normalized_arr = (arr - min_val) / (max_val - min_val)\n",
    "    return normalized_arr\n",
    "\n",
    "# Example usage:\n",
    "data = np.array([10, 20, 30, 40, 50])\n",
    "normalized_data = min_max_normalize(data)\n",
    "print(normalized_data)"
   ]
  },
  {
   "cell_type": "code",
   "execution_count": 20,
   "id": "b61603f7",
   "metadata": {},
   "outputs": [],
   "source": [
    "# use iris toy dataset as proof of concept\n",
    "data = sklearn.datasets.load_iris()\n",
    "X = min_max_normalize(data['data'])\n",
    "y = data['target']\n",
    "y[y != 1] = y[y != 1]*0\n",
    "\n",
    "input_size = len(data['data'][0])\n",
    "learn_rate = 0.01"
   ]
  },
  {
   "cell_type": "code",
   "execution_count": 21,
   "id": "e6557050",
   "metadata": {},
   "outputs": [],
   "source": [
    "# build the network\n",
    "l1 = layers.Linear(4, 8)\n",
    "r1 = activations.ReLu()\n",
    "l2 = layers.Linear(8, 4)\n",
    "r2 = activations.ReLu()\n",
    "l3 = layers.Linear(4, 1)\n",
    "sig = activations.Sigmoid()\n",
    "\n",
    "\n",
    "def forward(input):\n",
    "    # forward pass through the network\n",
    "    x = l1.forward(input)\n",
    "    x = r1.forward(x)\n",
    "    x = l2.forward(x)\n",
    "    x = r2.forward(x)\n",
    "    x = l3.forward(x)\n",
    "    x = sig.forward(x)\n",
    "    \n",
    "    return x\n",
    "\n",
    "\n",
    "def backwards(grad, learn_rate):\n",
    "    \n",
    "    grad = sig.backward(grad)\n",
    "    grad = l3.backward(grad, learn_rate)\n",
    "    grad = r2.backward(grad)\n",
    "    grad = l2.backward(grad, learn_rate)\n",
    "    grad = r1.backward(grad)\n",
    "    grad = l1.backward(grad, learn_rate)\n",
    "\n",
    "\n",
    "    return\n",
    "    \n",
    "\n",
    "\n",
    "        "
   ]
  },
  {
   "cell_type": "code",
   "execution_count": null,
   "id": "e8f9b2c7",
   "metadata": {},
   "outputs": [
    {
     "name": "stdout",
     "output_type": "stream",
     "text": [
      "0.22631801797189377\n",
      "0.22631704074072212\n",
      "0.22631606361514875\n",
      "0.22631508659516048\n",
      "0.22631410968074442\n",
      "0.22631313287188776\n",
      "0.22631215616857753\n",
      "0.22631117957080019\n",
      "0.22631020307854371\n",
      "0.22630922669179399\n"
     ]
    }
   ],
   "source": [
    "# training loop\n",
    "for epoch in range(10):\n",
    "    running_loss = 0\n",
    "\n",
    "    for i in range(len(X)):\n",
    "        pred = forward(np.expand_dims(X[i],axis=0))\n",
    "        loss_fn = objectives.MSELoss(pred, y[i])\n",
    "        loss = loss_fn.forward()\n",
    "        grad = loss_fn.backward(learn_rate)\n",
    "        backwards(grad, learn_rate)\n",
    "        running_loss += loss\n",
    "\n",
    "    print(running_loss/len(X))\n",
    "\n",
    "# seems like the network is underfititng the data, predicting average value\n",
    "# likely due to small number of samples, minmal dimensions, and class imbalance. NN is not ideal tool for this problem.\n",
    "# not worth test"
   ]
  }
 ],
 "metadata": {
  "kernelspec": {
   "display_name": ".venv",
   "language": "python",
   "name": "python3"
  },
  "language_info": {
   "codemirror_mode": {
    "name": "ipython",
    "version": 3
   },
   "file_extension": ".py",
   "mimetype": "text/x-python",
   "name": "python",
   "nbconvert_exporter": "python",
   "pygments_lexer": "ipython3",
   "version": "3.9.6"
  }
 },
 "nbformat": 4,
 "nbformat_minor": 5
}
