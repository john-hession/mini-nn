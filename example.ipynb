{
 "cells": [
  {
   "cell_type": "code",
   "execution_count": 50,
   "id": "73482fb6",
   "metadata": {},
   "outputs": [],
   "source": [
    "from components import layers, objectives, activations \n",
    "import sklearn"
   ]
  },
  {
   "cell_type": "code",
   "execution_count": 47,
   "id": "b61603f7",
   "metadata": {},
   "outputs": [],
   "source": [
    "# use iris toy dataset as proof of concept\n",
    "data = sklearn.datasets.load_iris()\n",
    "X = data['data']\n",
    "y = data['target']\n",
    "y[y != 1] = y[y != 1]*0\n",
    "input_size = len(data['data'][0])\n",
    "learn_rate = 0.001"
   ]
  },
  {
   "cell_type": "code",
   "execution_count": 52,
   "id": "e6557050",
   "metadata": {},
   "outputs": [],
   "source": [
    "# build the network\n",
    "l1 = layers.Linear(input_size, 8)\n",
    "r1 = activations.ReLu()\n",
    "l2 = layers.Linear(8, 4)\n",
    "r2 = activations.ReLu()\n",
    "l3 = layers.Linear(4, 1)\n",
    "sig = activations.Sigmoid()\n",
    "\n",
    "\n",
    "def forward(input):\n",
    "    # forward pass through the network\n",
    "    x = l1.forward(input)\n",
    "    x = r1.forward(x)\n",
    "    x = l2.forward(x)\n",
    "    x = r2.forward(x)\n",
    "    x = l3.forward(x)\n",
    "    x = sig.forward(x)\n",
    "    \n",
    "    return x\n",
    "\n",
    "\n",
    "def backwards(grad, learn_rate):\n",
    "    \n",
    "    grad = sig.backward(grad)\n",
    "    grad = l3.backward(grad, learn_rate)\n",
    "    grad = r2.backward(grad)\n",
    "    grad = l2.backward(grad, learn_rate)\n",
    "    grad = r1.backward(grad)\n",
    "    grad = l1.backward(grad, learn_rate)\n",
    "    \n",
    "    return\n",
    "    \n",
    "\n",
    "\n",
    "        "
   ]
  },
  {
   "cell_type": "code",
   "execution_count": 53,
   "id": "e8f9b2c7",
   "metadata": {},
   "outputs": [
    {
     "ename": "AttributeError",
     "evalue": "'MSELoss' object has no attribute 'backward'",
     "output_type": "error",
     "traceback": [
      "\u001b[0;31m---------------------------------------------------------------------------\u001b[0m",
      "\u001b[0;31mAttributeError\u001b[0m                            Traceback (most recent call last)",
      "Cell \u001b[0;32mIn[53], line 4\u001b[0m\n\u001b[1;32m      2\u001b[0m loss_fn \u001b[38;5;241m=\u001b[39m objectives\u001b[38;5;241m.\u001b[39mMSELoss(pred, y[\u001b[38;5;241m0\u001b[39m])\n\u001b[1;32m      3\u001b[0m loss \u001b[38;5;241m=\u001b[39m loss_fn\u001b[38;5;241m.\u001b[39mforward()\n\u001b[0;32m----> 4\u001b[0m grad \u001b[38;5;241m=\u001b[39m \u001b[43mloss_fn\u001b[49m\u001b[38;5;241;43m.\u001b[39;49m\u001b[43mbackward\u001b[49m(learn_rate)\n\u001b[1;32m      5\u001b[0m backwards(grad, learn_rate)\n",
      "\u001b[0;31mAttributeError\u001b[0m: 'MSELoss' object has no attribute 'backward'"
     ]
    }
   ],
   "source": [
    "pred = forward(X[0])\n",
    "loss_fn = objectives.MSELoss(pred, y[0])\n",
    "loss = loss_fn.forward()\n",
    "grad = loss_fn.backward(learn_rate)\n",
    "backwards(grad, learn_rate)\n",
    "\n"
   ]
  }
 ],
 "metadata": {
  "kernelspec": {
   "display_name": ".venv",
   "language": "python",
   "name": "python3"
  },
  "language_info": {
   "codemirror_mode": {
    "name": "ipython",
    "version": 3
   },
   "file_extension": ".py",
   "mimetype": "text/x-python",
   "name": "python",
   "nbconvert_exporter": "python",
   "pygments_lexer": "ipython3",
   "version": "3.9.6"
  }
 },
 "nbformat": 4,
 "nbformat_minor": 5
}
